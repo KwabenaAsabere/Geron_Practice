{
 "cells": [
  {
   "cell_type": "markdown",
   "id": "e5e91d54-1e43-44ef-ade4-6d8cc22f4062",
   "metadata": {},
   "source": [
    "---\n",
    "title: \"WORKING WITH APIs\"  \n",
    "author: \"Kwabena Asabere\"  \n",
    "df-print: kable  \n",
    "code-overflow: wrap  \n",
    "execute:  \n",
    "    echo: true  \n",
    "    warning: false  \n",
    "    message: false  \n",
    "format: html  \n",
    "---"
   ]
  },
  {
   "cell_type": "code",
   "execution_count": 2,
   "id": "80014b22-5d07-429a-b8ab-9e49fede8370",
   "metadata": {},
   "outputs": [],
   "source": [
    "import pandas as pd\n",
    "import numpy as np\n",
    "import seaborn as sns\n",
    "import matplotlib.pyplot as plt"
   ]
  },
  {
   "cell_type": "code",
   "execution_count": 3,
   "id": "7329acb6-689c-4690-a329-a7667b7ff277",
   "metadata": {},
   "outputs": [],
   "source": [
    "import requests"
   ]
  },
  {
   "cell_type": "code",
   "execution_count": 5,
   "id": "05ea34d7-8b7d-4262-bef8-d7718236c118",
   "metadata": {},
   "outputs": [
    {
     "name": "stdout",
     "output_type": "stream",
     "text": [
      "green\n"
     ]
    }
   ],
   "source": [
    "alien_0 = {\"color\":\"green\", \"points\":5}\n",
    "print(alien_0[\"color\"])"
   ]
  },
  {
   "cell_type": "code",
   "execution_count": 6,
   "id": "e0e8250f-da63-4231-bb58-715f65ecf96f",
   "metadata": {},
   "outputs": [],
   "source": [
    "alien_0[\"x_position\"] = 0\n",
    "alien_0[\"y_position\"] = 25"
   ]
  },
  {
   "cell_type": "code",
   "execution_count": 7,
   "id": "d2521153-3af4-462a-bc08-90421551dc07",
   "metadata": {},
   "outputs": [
    {
     "name": "stdout",
     "output_type": "stream",
     "text": [
      "{'color': 'green', 'points': 5, 'x_position': 0, 'y_position': 25}\n"
     ]
    }
   ],
   "source": [
    "print(alien_0)"
   ]
  },
  {
   "cell_type": "code",
   "execution_count": 10,
   "id": "20382b07-db16-401c-9df6-eff8a2344a00",
   "metadata": {},
   "outputs": [
    {
     "name": "stdout",
     "output_type": "stream",
     "text": [
      "{'color': 'yellow', 'points': 5, 'x_position': 0, 'y_position': 25}\n"
     ]
    }
   ],
   "source": [
    "alien_0[\"color\"] = \"yellow\"\n",
    "print(alien_0)"
   ]
  },
  {
   "cell_type": "code",
   "execution_count": 11,
   "id": "b9640b7c-b254-461b-be5e-8c4429d5139e",
   "metadata": {},
   "outputs": [],
   "source": [
    "del alien_0[\"points\"]"
   ]
  },
  {
   "cell_type": "code",
   "execution_count": 12,
   "id": "41eaa7a6-1624-4eaf-9937-c4c638a474c5",
   "metadata": {},
   "outputs": [
    {
     "data": {
      "text/plain": [
       "{'color': 'yellow', 'x_position': 0, 'y_position': 25}"
      ]
     },
     "execution_count": 12,
     "metadata": {},
     "output_type": "execute_result"
    }
   ],
   "source": [
    "alien_0"
   ]
  },
  {
   "cell_type": "code",
   "execution_count": 13,
   "id": "21cffff8-837b-4364-9146-43245016890a",
   "metadata": {},
   "outputs": [
    {
     "data": {
      "text/plain": [
       "[('color', 'yellow'), ('x_position', 0), ('y_position', 25)]"
      ]
     },
     "execution_count": 13,
     "metadata": {},
     "output_type": "execute_result"
    }
   ],
   "source": [
    "list(alien_0.items())"
   ]
  },
  {
   "cell_type": "code",
   "execution_count": 20,
   "id": "61e62faf-6ede-452a-b0f0-da3e1a167acd",
   "metadata": {},
   "outputs": [],
   "source": [
    "alien_0[\"dummy\"] = 5"
   ]
  },
  {
   "cell_type": "code",
   "execution_count": 21,
   "id": "a3657c81-cfdb-44d4-8879-f45f57a06244",
   "metadata": {},
   "outputs": [
    {
     "data": {
      "text/plain": [
       "5"
      ]
     },
     "execution_count": 21,
     "metadata": {},
     "output_type": "execute_result"
    }
   ],
   "source": [
    "alien_0[\"dummy\"]"
   ]
  },
  {
   "cell_type": "code",
   "execution_count": 22,
   "id": "37f1f03a-50ca-4eb0-9818-22d9f2699495",
   "metadata": {},
   "outputs": [
    {
     "name": "stdout",
     "output_type": "stream",
     "text": [
      "5\n"
     ]
    }
   ],
   "source": [
    "z = alien_0.pop(\"dummy\")\n",
    "print(z)\n"
   ]
  },
  {
   "cell_type": "code",
   "execution_count": 23,
   "id": "edb19e0f-6af5-4f71-87bc-3dc1eee31462",
   "metadata": {},
   "outputs": [],
   "source": [
    "d1 = alien_0"
   ]
  },
  {
   "cell_type": "code",
   "execution_count": 24,
   "id": "7e601ab2-538f-4e53-8118-126f34ecf055",
   "metadata": {},
   "outputs": [
    {
     "data": {
      "text/plain": [
       "dict_keys(['color', 'x_position', 'y_position'])"
      ]
     },
     "execution_count": 24,
     "metadata": {},
     "output_type": "execute_result"
    }
   ],
   "source": [
    "d1.keys()"
   ]
  },
  {
   "cell_type": "code",
   "execution_count": 25,
   "id": "a370b5cb-afa5-4b58-995f-7df794a494ed",
   "metadata": {},
   "outputs": [
    {
     "data": {
      "text/plain": [
       "['color', 'x_position', 'y_position']"
      ]
     },
     "execution_count": 25,
     "metadata": {},
     "output_type": "execute_result"
    }
   ],
   "source": [
    "list(d1.keys())"
   ]
  },
  {
   "cell_type": "code",
   "execution_count": 26,
   "id": "69a044b9-a18b-4476-9ec6-1918be085663",
   "metadata": {},
   "outputs": [
    {
     "data": {
      "text/plain": [
       "['yellow', 0, 25]"
      ]
     },
     "execution_count": 26,
     "metadata": {},
     "output_type": "execute_result"
    }
   ],
   "source": [
    "list(d1.values())"
   ]
  },
  {
   "cell_type": "code",
   "execution_count": 27,
   "id": "79a7c71a-f114-47a3-b9d0-1dc51cd8a89c",
   "metadata": {},
   "outputs": [],
   "source": [
    "d1.update({\"b\":2,\"c\":4})"
   ]
  },
  {
   "cell_type": "code",
   "execution_count": 28,
   "id": "5743a96a-efae-409e-a726-fa5729323a3e",
   "metadata": {},
   "outputs": [
    {
     "data": {
      "text/plain": [
       "{'color': 'yellow', 'x_position': 0, 'y_position': 25, 'b': 2, 'c': 4}"
      ]
     },
     "execution_count": 28,
     "metadata": {},
     "output_type": "execute_result"
    }
   ],
   "source": [
    "d1"
   ]
  },
  {
   "cell_type": "code",
   "execution_count": null,
   "id": "994ee2b5-b768-4834-8447-d97058f9de20",
   "metadata": {},
   "outputs": [],
   "source": []
  },
  {
   "cell_type": "code",
   "execution_count": null,
   "id": "5dc3fb54-8fb9-4d6e-87bf-a04ff3e2fe01",
   "metadata": {},
   "outputs": [],
   "source": []
  },
  {
   "cell_type": "code",
   "execution_count": null,
   "id": "eb064cf2-7c0b-4d7a-bfbb-0302b1610cfd",
   "metadata": {},
   "outputs": [],
   "source": []
  },
  {
   "cell_type": "code",
   "execution_count": null,
   "id": "fd3b4b59-9a71-4a38-8f0e-4ad04e949013",
   "metadata": {},
   "outputs": [],
   "source": []
  },
  {
   "cell_type": "code",
   "execution_count": null,
   "id": "050ec754-4caa-4056-824d-add4d5413fb4",
   "metadata": {},
   "outputs": [],
   "source": []
  },
  {
   "cell_type": "code",
   "execution_count": null,
   "id": "979474c7-6452-4aab-9b90-e16b10569486",
   "metadata": {},
   "outputs": [],
   "source": []
  },
  {
   "cell_type": "code",
   "execution_count": null,
   "id": "60a0718a-6c2b-4d43-bd11-29216b288297",
   "metadata": {},
   "outputs": [],
   "source": []
  },
  {
   "cell_type": "code",
   "execution_count": null,
   "id": "152e55f7-032b-4ba7-bce2-8ed20d8acdb2",
   "metadata": {},
   "outputs": [],
   "source": []
  },
  {
   "cell_type": "code",
   "execution_count": null,
   "id": "afe74d05-3048-4c62-941c-4fa69fabf2bc",
   "metadata": {},
   "outputs": [],
   "source": []
  },
  {
   "cell_type": "code",
   "execution_count": null,
   "id": "f8ac4901-ca73-470f-ab71-6ea897fda082",
   "metadata": {},
   "outputs": [],
   "source": []
  },
  {
   "cell_type": "code",
   "execution_count": null,
   "id": "39a32473-22fc-4d58-bfd1-e873b11879f1",
   "metadata": {},
   "outputs": [],
   "source": []
  },
  {
   "cell_type": "code",
   "execution_count": null,
   "id": "fe76ef94-7ee5-4709-a71d-e154f79b3464",
   "metadata": {},
   "outputs": [],
   "source": []
  },
  {
   "cell_type": "code",
   "execution_count": null,
   "id": "0e455b07-02ed-4ce2-9151-94e9920528e2",
   "metadata": {},
   "outputs": [],
   "source": []
  },
  {
   "cell_type": "code",
   "execution_count": null,
   "id": "6efb4567-5b0a-430d-89d3-37d658ef3cf0",
   "metadata": {},
   "outputs": [],
   "source": []
  },
  {
   "cell_type": "code",
   "execution_count": null,
   "id": "d0199e72-c20f-4015-905b-2631e6ee26b9",
   "metadata": {},
   "outputs": [],
   "source": []
  },
  {
   "cell_type": "code",
   "execution_count": null,
   "id": "3261057f-b5db-4366-a0f2-cfc4a99316a3",
   "metadata": {},
   "outputs": [],
   "source": []
  },
  {
   "cell_type": "code",
   "execution_count": null,
   "id": "912677cf-9253-4a52-8726-1837b5a6b5c1",
   "metadata": {},
   "outputs": [],
   "source": []
  },
  {
   "cell_type": "code",
   "execution_count": null,
   "id": "1c1ff367-95f9-4e1f-a671-4ac33036350b",
   "metadata": {},
   "outputs": [],
   "source": []
  },
  {
   "cell_type": "code",
   "execution_count": null,
   "id": "d24e3c28-2b7f-4f89-88f4-951d70aa5034",
   "metadata": {},
   "outputs": [],
   "source": []
  },
  {
   "cell_type": "code",
   "execution_count": null,
   "id": "a9323883-de71-45d3-9781-be5a84a9a946",
   "metadata": {},
   "outputs": [],
   "source": []
  },
  {
   "cell_type": "code",
   "execution_count": null,
   "id": "7c32f801-d5e8-4649-a4d1-2bde491a21a7",
   "metadata": {},
   "outputs": [],
   "source": []
  }
 ],
 "metadata": {
  "kernelspec": {
   "display_name": "Python 3",
   "language": "python",
   "name": "python3"
  },
  "language_info": {
   "codemirror_mode": {
    "name": "ipython",
    "version": 3
   },
   "file_extension": ".py",
   "mimetype": "text/x-python",
   "name": "python",
   "nbconvert_exporter": "python",
   "pygments_lexer": "ipython3",
   "version": "3.12.3"
  }
 },
 "nbformat": 4,
 "nbformat_minor": 5
}
