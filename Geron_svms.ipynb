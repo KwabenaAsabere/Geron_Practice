{
 "cells": [
  {
   "cell_type": "markdown",
   "id": "d9f34260-b310-4bca-8f4c-845d0f027ad5",
   "metadata": {},
   "source": [
    "---\n",
    "title: \"SUPPORT VECTOR MACHINES\"\n",
    "author: \"Kwabena Asabere\"\n",
    "df-print: kable\n",
    "code-overflow: wrap\n",
    "execute:\n",
    "    echo: true\n",
    "    warning: false\n",
    "    message: false\n",
    "format: html\n",
    "---"
   ]
  },
  {
   "cell_type": "code",
   "execution_count": 1,
   "id": "91f9aab4-baa5-4eb9-8476-a050babde598",
   "metadata": {},
   "outputs": [],
   "source": [
    "import pandas as pd\n",
    "import numpy as np\n",
    "import seaborn as sns\n",
    "import matplotlib.pyplot as plt"
   ]
  },
  {
   "cell_type": "code",
   "execution_count": 2,
   "id": "90d73289-d945-454b-86a5-614aca2dd4e5",
   "metadata": {},
   "outputs": [
    {
     "ename": "NameError",
     "evalue": "name 'ConfusionMatrixDisplay' is not defined",
     "output_type": "error",
     "traceback": [
      "\u001b[1;31m---------------------------------------------------------------------------\u001b[0m",
      "\u001b[1;31mNameError\u001b[0m                                 Traceback (most recent call last)",
      "Cell \u001b[1;32mIn[2], line 5\u001b[0m\n\u001b[0;32m      3\u001b[0m \u001b[38;5;28;01mfrom\u001b[39;00m \u001b[38;5;21;01msklearn\u001b[39;00m\u001b[38;5;21;01m.\u001b[39;00m\u001b[38;5;21;01mmodel_selection\u001b[39;00m \u001b[38;5;28;01mimport\u001b[39;00m train_test_split,cross_val_score,cross_validate,cross_val_predict,GridSearchCV\n\u001b[0;32m      4\u001b[0m \u001b[38;5;28;01mfrom\u001b[39;00m \u001b[38;5;21;01msklearn\u001b[39;00m\u001b[38;5;21;01m.\u001b[39;00m\u001b[38;5;21;01mmetrics\u001b[39;00m \u001b[38;5;28;01mimport\u001b[39;00m accuracy_score,confusion_matrix,precision_recall_curve,roc_curve,roc_auc_score\n\u001b[1;32m----> 5\u001b[0m \u001b[43mConfusionMatrixDisplay\u001b[49m,root_mean_squared_error,r2_score\n\u001b[0;32m      6\u001b[0m \u001b[38;5;28;01mfrom\u001b[39;00m \u001b[38;5;21;01msklearn\u001b[39;00m\u001b[38;5;21;01m.\u001b[39;00m\u001b[38;5;21;01mcompose\u001b[39;00m \u001b[38;5;28;01mimport\u001b[39;00m ColumnTransformer,make_column_transformer\n\u001b[0;32m      7\u001b[0m \u001b[38;5;28;01mfrom\u001b[39;00m \u001b[38;5;21;01msklearn\u001b[39;00m\u001b[38;5;21;01m.\u001b[39;00m\u001b[38;5;21;01mimpute\u001b[39;00m \u001b[38;5;28;01mimport\u001b[39;00m SimpleImputer\n",
      "\u001b[1;31mNameError\u001b[0m: name 'ConfusionMatrixDisplay' is not defined"
     ]
    }
   ],
   "source": [
    "from sklearn.preprocessing import StandardScaler,OneHotEncoder,PolynomialFeatures,FunctionTransformer,MinMaxScaler,LabelBinarizer\n",
    "from sklearn.pipeline import Pipeline,make_pipeline\n",
    "from sklearn.model_selection import train_test_split,cross_val_score,cross_validate,cross_val_predict,GridSearchCV\n",
    "from sklearn.metrics import accuracy_score,confusion_matrix,precision_recall_curve,roc_curve,roc_auc_score\n",
    "ConfusionMatrixDisplay,root_mean_squared_error,r2_score\n",
    "from sklearn.compose import ColumnTransformer,make_column_transformer\n",
    "from sklearn.impute import SimpleImputer"
   ]
  },
  {
   "cell_type": "code",
   "execution_count": null,
   "id": "1f47b076-b773-4ea7-8836-5588b7b962da",
   "metadata": {},
   "outputs": [],
   "source": [
    "heart = pd.read_csv(r\"C:\\Users\\KAsab\\Desktop\\Analysis_Workshop\\data\\south_africa_heart.csv\")"
   ]
  },
  {
   "cell_type": "markdown",
   "id": "d6823c08-cd68-4ea6-82f7-db4af0375359",
   "metadata": {},
   "source": [
    "### Linear SVM Classification"
   ]
  },
  {
   "cell_type": "code",
   "execution_count": null,
   "id": "13b44a12-65b1-4698-bb9e-c65bcc298995",
   "metadata": {},
   "outputs": [],
   "source": [
    "iris = pd.read_csv(r\"C:\\Users\\KAsab\\Desktop\\Analysis_Workshop\\data\\Iris.csv\")\n",
    "iris = iris.iloc[:100,:]"
   ]
  },
  {
   "cell_type": "code",
   "execution_count": null,
   "id": "84eaf029-0f73-41bb-b857-dcdc0353ce0d",
   "metadata": {},
   "outputs": [],
   "source": [
    "iris.head()"
   ]
  },
  {
   "cell_type": "code",
   "execution_count": null,
   "id": "b26f57e6-72f5-4b04-96ec-00fba816c72a",
   "metadata": {},
   "outputs": [],
   "source": [
    "sns.scatterplot(\n",
    "    data = iris,\n",
    "    x = \"PetalLengthCm\",\n",
    "    y = \"PetalWidthCm\",\n",
    "    hue = \"Species\"\n",
    ")\n",
    "plt.xlabel(\"Petal Length\")\n",
    "plt.ylabel(\"Petal Width\")\n",
    "plt.grid()\n",
    "plt.show()"
   ]
  },
  {
   "cell_type": "code",
   "execution_count": null,
   "id": "96ebd09b-7504-461a-b9ce-18a1597740de",
   "metadata": {},
   "outputs": [],
   "source": [
    "from sklearn.svm import LinearSVC,SVC,SVR,LinearSVR"
   ]
  },
  {
   "cell_type": "code",
   "execution_count": null,
   "id": "fb0e225b-0ae1-44f5-a14c-0e6bb39800c6",
   "metadata": {},
   "outputs": [],
   "source": [
    "iris.info()"
   ]
  },
  {
   "cell_type": "code",
   "execution_count": null,
   "id": "5fa20be6-c01d-4833-9493-eae85547f977",
   "metadata": {},
   "outputs": [],
   "source": [
    "X = iris.iloc[:,3:5]\n",
    "y = iris[\"Species\"] "
   ]
  },
  {
   "cell_type": "code",
   "execution_count": null,
   "id": "61d19e8d-14f1-45bb-818d-f92a2622fa05",
   "metadata": {},
   "outputs": [],
   "source": [
    "X.head()"
   ]
  },
  {
   "cell_type": "code",
   "execution_count": null,
   "id": "bbd45810-8464-49b7-a557-3cf2eaafffe4",
   "metadata": {},
   "outputs": [],
   "source": [
    "y"
   ]
  },
  {
   "cell_type": "code",
   "execution_count": null,
   "id": "20ec2bd1-15da-4363-9306-0f2efeb3171c",
   "metadata": {},
   "outputs": [],
   "source": [
    "X_train,X_test,y_train,y_test = train_test_split(X,y , random_state = 42)"
   ]
  },
  {
   "cell_type": "code",
   "execution_count": null,
   "id": "bed38e72-d038-4dc4-b16a-5e848c2d810c",
   "metadata": {},
   "outputs": [],
   "source": [
    "svm_clf = make_pipeline(\n",
    "    StandardScaler(),\n",
    "    LinearSVC(C = 1, random_state = 42)\n",
    ")"
   ]
  },
  {
   "cell_type": "code",
   "execution_count": null,
   "id": "8f4f41c9-11e7-423e-ab18-b22d2641422c",
   "metadata": {},
   "outputs": [],
   "source": [
    "svm_clf.fit(X_train,y_train)"
   ]
  },
  {
   "cell_type": "code",
   "execution_count": null,
   "id": "4060f890-d9d1-4179-93fa-79a3bf2b6891",
   "metadata": {},
   "outputs": [],
   "source": [
    "y_pred = svm_clf.predict(X_train)"
   ]
  },
  {
   "cell_type": "code",
   "execution_count": null,
   "id": "07f4864f-7a42-4047-b9c3-5c00d27743c0",
   "metadata": {},
   "outputs": [],
   "source": [
    "accuracy_score(y_train,y_pred)"
   ]
  },
  {
   "cell_type": "code",
   "execution_count": null,
   "id": "6e9b2c30-9ea2-4594-96d8-a562410819d1",
   "metadata": {},
   "outputs": [],
   "source": [
    "y_train_pred = cross_val_predict(svm_clf,X_train,y_train,cv = 3)"
   ]
  },
  {
   "cell_type": "code",
   "execution_count": null,
   "id": "71277966-9239-40a4-96c9-89712290267c",
   "metadata": {},
   "outputs": [],
   "source": [
    "y_scores = cross_val_predict(svm_clf,X_train,y_train,cv = 3, method  = \"decision_function\")"
   ]
  },
  {
   "cell_type": "code",
   "execution_count": null,
   "id": "38516f4f-08e6-43ab-a160-8d013c6c0ec8",
   "metadata": {},
   "outputs": [],
   "source": []
  },
  {
   "cell_type": "code",
   "execution_count": null,
   "id": "4488e43c-98b2-4ef7-b257-4a14168f8098",
   "metadata": {},
   "outputs": [],
   "source": [
    "y_train_binary = LabelBinarizer().fit_transform(y_train).ravel()"
   ]
  },
  {
   "cell_type": "code",
   "execution_count": null,
   "id": "cffe4042-b2f1-4215-970f-2761a6e1b912",
   "metadata": {},
   "outputs": [],
   "source": [
    "precisions,recalls,thresholds = precision_recall_curve(y_train_binary,y_scores)"
   ]
  },
  {
   "cell_type": "code",
   "execution_count": null,
   "id": "1b827f89-d285-49d2-8a6b-6c411847a31b",
   "metadata": {},
   "outputs": [],
   "source": [
    "fig = plt.figure(figsize = (8,6))\n",
    "plt.plot(thresholds,precisions[:-1],\"b--\", label = \"Precision\", linewidth = 2)\n",
    "plt.plot(thresholds,recalls[:-1],\"g-\",label = \"Recall\",linewidth = 2)\n",
    "plt.grid()\n",
    "plt.xlabel(\"Threshold\")\n",
    "plt.legend()\n",
    "plt.show()"
   ]
  },
  {
   "cell_type": "code",
   "execution_count": null,
   "id": "e7df96cf-f166-4ada-a888-4e976df9363d",
   "metadata": {},
   "outputs": [],
   "source": [
    "fpr,tpr,thresholds = roc_curve(y_train_binary,y_scores)"
   ]
  },
  {
   "cell_type": "code",
   "execution_count": null,
   "id": "f0767016-bc27-467e-90ca-40cc07862faf",
   "metadata": {},
   "outputs": [],
   "source": [
    "auc = roc_auc_score(y_train_binary,y_scores)"
   ]
  },
  {
   "cell_type": "code",
   "execution_count": null,
   "id": "9b0eae52-d631-4db5-8042-39c3b2b1ca72",
   "metadata": {},
   "outputs": [],
   "source": [
    "fig = plt.figure(figsize = (8,6))\n",
    "plt.plot(fpr,tpr,linewidth = 2, label = f\"ROC curve (AUC = {auc})\")\n",
    "plt.plot([0,1],[0,1], \"k:\",label = \"Random Classifier's ROC curve\")\n",
    "plt.grid()\n",
    "plt.legend()\n",
    "plt.show()"
   ]
  },
  {
   "cell_type": "markdown",
   "id": "155a1f20-7f5b-403a-b924-a381552e9d74",
   "metadata": {},
   "source": [
    "### Nonlinear SVM Classification"
   ]
  },
  {
   "cell_type": "code",
   "execution_count": null,
   "id": "17a5dc4b-cc2b-4b3b-b8e1-a8ae8803e424",
   "metadata": {},
   "outputs": [],
   "source": [
    "from sklearn.datasets import make_moons\n",
    "from sklearn.preprocessing import PolynomialFeatures"
   ]
  },
  {
   "cell_type": "code",
   "execution_count": null,
   "id": "a6bd92a7-0f67-4c80-b0ea-2d6ef34bd67d",
   "metadata": {},
   "outputs": [],
   "source": [
    "X,y = make_moons(n_samples = 100, noise = 0.15, random_state = 42)"
   ]
  },
  {
   "cell_type": "code",
   "execution_count": null,
   "id": "4af80993-8c65-4093-b768-6b9dad122ccc",
   "metadata": {},
   "outputs": [],
   "source": [
    "poly_svm_clf = make_pipeline(\n",
    "    PolynomialFeatures(degree = 3),\n",
    "    StandardScaler(),\n",
    "    LinearSVC(C = 10, max_iter = 10_000, random_state = 42)\n",
    ")"
   ]
  },
  {
   "cell_type": "code",
   "execution_count": null,
   "id": "688ee911-7242-41fa-81ac-439fa9d42b6a",
   "metadata": {},
   "outputs": [],
   "source": [
    "poly_svm_clf.fit(X,y)"
   ]
  },
  {
   "cell_type": "code",
   "execution_count": null,
   "id": "2632d96f-c631-4f64-aea8-0bc79001b32b",
   "metadata": {},
   "outputs": [],
   "source": [
    "poly_kernel_svc = make_pipeline(StandardScaler(),\n",
    "                               SVC(kernel = \"poly\",degree = 3, coef0 = 1, C = 5))"
   ]
  },
  {
   "cell_type": "code",
   "execution_count": null,
   "id": "ab08a3db-8843-4e0d-88e5-c1dfb7c2138b",
   "metadata": {},
   "outputs": [],
   "source": [
    "poly_kernel_svc.fit(X,y)"
   ]
  },
  {
   "cell_type": "markdown",
   "id": "8e21728b-3c71-4e6d-ae4a-f6c8e497563a",
   "metadata": {},
   "source": [
    "The hyperparameter `coef0` controls how much the model is influenced by high-degree terms versus\r\n",
    "low-degree terms."
   ]
  },
  {
   "cell_type": "code",
   "execution_count": null,
   "id": "593d4c72-f8e9-48c4-9a20-e528d0e58fbe",
   "metadata": {},
   "outputs": [],
   "source": [
    "rbf_svm = make_pipeline(StandardScaler(),\n",
    "                       SVC(kernel = \"rbf\", gamma = 5, C = 0.001))"
   ]
  },
  {
   "cell_type": "code",
   "execution_count": null,
   "id": "2797d2a2-0e34-4af9-85bd-961fcd4f33ea",
   "metadata": {},
   "outputs": [],
   "source": [
    "rbf_svm.fit(X,y)"
   ]
  },
  {
   "cell_type": "markdown",
   "id": "645a3839-4469-4b0d-bf75-092c35db0ee0",
   "metadata": {},
   "source": [
    "Increasing gamma makes the bell-shaped curve narrower (see the\r\n",
    "lefthand plots in Figure 5-8). As a result, each instance’s range of influence is smaller: the decision boundary ends\r\n",
    "up being more irregular, wiggling around individual instances. Conversely, a small gamma value makes the bellshaped\r\n",
    "curve wider: instances have a larger range of influence, and the decision boundary ends up smoot\n",
    "\n",
    "So `γ` \r\n",
    "3\r\n",
    "2\r\n",
    "acts like a regularization hyperparameter: if your model is overfitting, you should reduce γ; if it is underfitting, you\r\n",
    "should increase γ (similar to the C hyperparameter)her"
   ]
  },
  {
   "cell_type": "code",
   "execution_count": null,
   "id": "2c536a67-0b21-4dbc-8808-0b9aebced923",
   "metadata": {},
   "outputs": [],
   "source": [
    "from sklearn.svm import LinearSVR"
   ]
  },
  {
   "cell_type": "code",
   "execution_count": null,
   "id": "3de94b48-01ca-457b-bba3-c8e3ce4eea8c",
   "metadata": {},
   "outputs": [],
   "source": [
    "diamonds = pd.read_csv(r\"C:\\Users\\KAsab\\Desktop\\GERON\\diamonds.csv\")"
   ]
  },
  {
   "cell_type": "code",
   "execution_count": null,
   "id": "eb858a5f-e9c2-4ba8-a5cd-2dccdc3d2fb7",
   "metadata": {},
   "outputs": [],
   "source": [
    "diamonds.head()"
   ]
  },
  {
   "cell_type": "code",
   "execution_count": null,
   "id": "1a6e0c3c-252d-4d1d-abdf-4a482d87369f",
   "metadata": {},
   "outputs": [],
   "source": [
    "diamonds = diamonds.iloc[:,1:]"
   ]
  },
  {
   "cell_type": "code",
   "execution_count": null,
   "id": "473f976f-dc16-49d2-88f8-7e407fb94c1a",
   "metadata": {},
   "outputs": [],
   "source": [
    "X = diamonds.select_dtypes(include = \"number\")\n",
    "y = diamonds[\"price\"]"
   ]
  },
  {
   "cell_type": "code",
   "execution_count": null,
   "id": "c69a28cf-c1be-430c-9b07-259c68c525d8",
   "metadata": {},
   "outputs": [],
   "source": [
    "X_train,X_test,y_train,y_test = train_test_split(X,y,test_size = 0.2,random_state = 42)"
   ]
  },
  {
   "cell_type": "code",
   "execution_count": null,
   "id": "023433aa-1908-4c97-ac3e-9366854f138c",
   "metadata": {},
   "outputs": [],
   "source": [
    "svm_reg = make_pipeline(StandardScaler(),LinearSVR(epsilon = 0.5,random_state = 42))"
   ]
  },
  {
   "cell_type": "code",
   "execution_count": null,
   "id": "a561f30f-3c21-45d6-a3bd-60cef540e673",
   "metadata": {},
   "outputs": [],
   "source": [
    "svm_reg.fit(X_train,y_train)"
   ]
  },
  {
   "cell_type": "code",
   "execution_count": null,
   "id": "2645d5d7-dfae-4b91-8e24-4cf62a68fd48",
   "metadata": {},
   "outputs": [],
   "source": [
    "y_preds = svm_reg.predict(X_train)"
   ]
  },
  {
   "cell_type": "code",
   "execution_count": null,
   "id": "74f7d52d-7d59-48e3-a413-4ab91717a374",
   "metadata": {},
   "outputs": [],
   "source": [
    "rmse = root_mean_squared_error"
   ]
  },
  {
   "cell_type": "code",
   "execution_count": null,
   "id": "36d2d8c0-01f8-48a7-8b49-8cc0896f0da2",
   "metadata": {},
   "outputs": [],
   "source": [
    "rmse(y_train,y_preds)"
   ]
  },
  {
   "cell_type": "code",
   "execution_count": null,
   "id": "64890f0b-1074-443e-b42a-11ec09498dbe",
   "metadata": {},
   "outputs": [],
   "source": [
    "r2_score(y_train,y_preds)"
   ]
  },
  {
   "cell_type": "code",
   "execution_count": null,
   "id": "0826175e-5ce0-4659-aeba-3229c4d1bbad",
   "metadata": {},
   "outputs": [],
   "source": []
  },
  {
   "cell_type": "code",
   "execution_count": null,
   "id": "cdfbdd41-93ca-4d75-a325-76530fea4a2d",
   "metadata": {},
   "outputs": [],
   "source": [
    "svm_poly_reg = make_pipeline(StandardScaler(),\n",
    "                            SVR(kernel = \"poly\",degree = 2, C = 0.01, epsilon = 0.1))"
   ]
  },
  {
   "cell_type": "code",
   "execution_count": null,
   "id": "cc11abd9-86a9-4920-821f-866636d83021",
   "metadata": {},
   "outputs": [],
   "source": [
    "svm_poly_reg.fit(X_train,y_train)"
   ]
  },
  {
   "cell_type": "code",
   "execution_count": null,
   "id": "3e6e0cbe-55a0-4568-8efb-241d2d0eaf81",
   "metadata": {},
   "outputs": [],
   "source": [
    "svm_poly_reg.predict(X_test)"
   ]
  },
  {
   "cell_type": "code",
   "execution_count": null,
   "id": "1c2fc16e-677f-4aa3-940f-5a55ac9d3910",
   "metadata": {},
   "outputs": [],
   "source": []
  },
  {
   "cell_type": "code",
   "execution_count": null,
   "id": "d4a169ad-e317-4035-ab5e-425ea711e6af",
   "metadata": {},
   "outputs": [],
   "source": []
  },
  {
   "cell_type": "code",
   "execution_count": null,
   "id": "4e658fc9-9a0a-4211-add5-60271deee093",
   "metadata": {},
   "outputs": [],
   "source": []
  },
  {
   "cell_type": "code",
   "execution_count": null,
   "id": "a302a565-9ad0-4535-b41e-e8c8c04823e1",
   "metadata": {},
   "outputs": [],
   "source": []
  },
  {
   "cell_type": "code",
   "execution_count": null,
   "id": "38ff147e-29bf-4507-9496-b9ecab9eb161",
   "metadata": {},
   "outputs": [],
   "source": []
  },
  {
   "cell_type": "code",
   "execution_count": null,
   "id": "a67ddd10-7506-424c-adcb-688dd5edda48",
   "metadata": {},
   "outputs": [],
   "source": []
  },
  {
   "cell_type": "code",
   "execution_count": null,
   "id": "f4d1ad1d-b264-4376-ab2b-0a3149fa1cc8",
   "metadata": {},
   "outputs": [],
   "source": []
  },
  {
   "cell_type": "code",
   "execution_count": null,
   "id": "55efa2ef-1270-4322-96d6-e7dc555a240c",
   "metadata": {},
   "outputs": [],
   "source": []
  },
  {
   "cell_type": "code",
   "execution_count": null,
   "id": "5ba0d5c6-0968-4aa7-b0a7-ca80ecc135ab",
   "metadata": {},
   "outputs": [],
   "source": []
  },
  {
   "cell_type": "code",
   "execution_count": null,
   "id": "46aadb7a-3822-4820-a3cb-d8100210bd20",
   "metadata": {},
   "outputs": [],
   "source": []
  },
  {
   "cell_type": "code",
   "execution_count": null,
   "id": "ca96683b-8e6e-4d1a-9412-fc997985bd69",
   "metadata": {},
   "outputs": [],
   "source": []
  },
  {
   "cell_type": "code",
   "execution_count": null,
   "id": "2f4b38eb-67d8-4ff6-bfb0-884d2a3dceff",
   "metadata": {},
   "outputs": [],
   "source": []
  },
  {
   "cell_type": "code",
   "execution_count": null,
   "id": "bb81ceb0-c97d-4aff-92d4-b5d4cd78bb5c",
   "metadata": {},
   "outputs": [],
   "source": []
  },
  {
   "cell_type": "code",
   "execution_count": null,
   "id": "afbcf4af-3339-4318-adee-04b3bd1b160e",
   "metadata": {},
   "outputs": [],
   "source": []
  },
  {
   "cell_type": "code",
   "execution_count": null,
   "id": "e8d2b760-b7dc-4702-8d74-a55cef177d69",
   "metadata": {},
   "outputs": [],
   "source": []
  },
  {
   "cell_type": "code",
   "execution_count": null,
   "id": "cd2382b4-5020-4238-85aa-fbe5f1d58f26",
   "metadata": {},
   "outputs": [],
   "source": []
  },
  {
   "cell_type": "code",
   "execution_count": null,
   "id": "9f907572-dade-48a8-bd3a-1d378058e371",
   "metadata": {},
   "outputs": [],
   "source": []
  }
 ],
 "metadata": {
  "kernelspec": {
   "display_name": "Python 3",
   "language": "python",
   "name": "python3"
  },
  "language_info": {
   "codemirror_mode": {
    "name": "ipython",
    "version": 3
   },
   "file_extension": ".py",
   "mimetype": "text/x-python",
   "name": "python",
   "nbconvert_exporter": "python",
   "pygments_lexer": "ipython3",
   "version": "3.12.3"
  }
 },
 "nbformat": 4,
 "nbformat_minor": 5
}
